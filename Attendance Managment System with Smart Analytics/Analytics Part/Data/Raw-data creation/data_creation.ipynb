{
 "cells": [
  {
   "cell_type": "code",
   "execution_count": 3,
   "id": "345e48bd-5226-4d4b-8c7a-9df97df19de2",
   "metadata": {
    "tags": []
   },
   "outputs": [
    {
     "name": "stdout",
     "output_type": "stream",
     "text": [
      "Attendance files created for 40 dates in the CSBS folder.\n"
     ]
    }
   ],
   "source": [
    "import os\n",
    "import csv\n",
    "import random\n",
    "from datetime import datetime, timedelta\n",
    "\n",
    "# Constants\n",
    "start_date = \"10/12/2024\"\n",
    "num_dates = 40\n",
    "class_name = \"CSBS\"\n",
    "students_per_date = 40\n",
    "\n",
    "# Generate folder structure for class\n",
    "base_folder = f\"{class_name}/\"\n",
    "os.makedirs(base_folder, exist_ok=True)\n",
    "\n",
    "# Generate synthetic data for multiple dates\n",
    "start_date_obj = datetime.strptime(start_date, \"%d/%m/%Y\")\n",
    "\n",
    "def create_attendance_file(date_str, folder_name):\n",
    "    # Generate synthetic data for students\n",
    "    students = [\n",
    "        {\n",
    "            \"name\": f\"Student_{i+1}\",\n",
    "            \"roll_no\": f\"CSBS{i+1:03d}\",\n",
    "            **{f\"period{j+1}\": random.choice([\"Present\", \"Absent\"]) for j in range(8)},\n",
    "        }\n",
    "        for i in range(students_per_date)\n",
    "    ]\n",
    "\n",
    "    # CSV file path\n",
    "    csv_file_path = os.path.join(folder_name, \"attendance.csv\")\n",
    "\n",
    "    # Write data to CSV\n",
    "    header = [\"name\", \"roll_no\"] + [f\"period{i+1}\" for i in range(8)]\n",
    "\n",
    "    with open(csv_file_path, mode=\"w\", newline=\"\", encoding=\"utf-8\") as file:\n",
    "        writer = csv.DictWriter(file, fieldnames=header)\n",
    "        writer.writeheader()\n",
    "        writer.writerows(students)\n",
    "\n",
    "# Loop through the dates\n",
    "for i in range(num_dates):\n",
    "    date_obj = start_date_obj + timedelta(days=i)\n",
    "    date_str = date_obj.strftime(\"%d-%m-%Y\")\n",
    "    folder_name = os.path.join(base_folder, f\"date-{date_str}\")\n",
    "    os.makedirs(folder_name, exist_ok=True)\n",
    "    create_attendance_file(date_str, folder_name)\n",
    "\n",
    "print(f\"Attendance files created for {num_dates} dates in the {class_name} folder.\")\n"
   ]
  },
  {
   "cell_type": "code",
   "execution_count": null,
   "id": "086f4f7f-9c50-4daf-a76a-9eafce665876",
   "metadata": {},
   "outputs": [],
   "source": []
  }
 ],
 "metadata": {
  "kernelspec": {
   "display_name": "Python 3 (ipykernel)",
   "language": "python",
   "name": "python3"
  },
  "language_info": {
   "codemirror_mode": {
    "name": "ipython",
    "version": 3
   },
   "file_extension": ".py",
   "mimetype": "text/x-python",
   "name": "python",
   "nbconvert_exporter": "python",
   "pygments_lexer": "ipython3",
   "version": "3.11.4"
  }
 },
 "nbformat": 4,
 "nbformat_minor": 5
}
